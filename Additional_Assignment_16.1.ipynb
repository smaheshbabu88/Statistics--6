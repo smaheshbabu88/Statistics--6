{
 "cells": [
  {
   "cell_type": "markdown",
   "metadata": {},
   "source": [
    "## Additional_Assignment_16.1"
   ]
  },
  {
   "cell_type": "markdown",
   "metadata": {},
   "source": [
    "### Problem Statement 1:"
   ]
  },
  {
   "cell_type": "markdown",
   "metadata": {},
   "source": [
    "![PS_1.png](PS_1.png)"
   ]
  },
  {
   "cell_type": "markdown",
   "metadata": {},
   "source": [
    "### Solution:"
   ]
  },
  {
   "cell_type": "markdown",
   "metadata": {},
   "source": [
    "H0 : μ1 – μ2 = 0\n",
    "\n",
    "H1 : μ1 – μ2 ≠ 0"
   ]
  },
  {
   "cell_type": "markdown",
   "metadata": {},
   "source": [
    "![Z_Formula.png](Z_Formula.png)"
   ]
  },
  {
   "cell_type": "code",
   "execution_count": 1,
   "metadata": {},
   "outputs": [],
   "source": [
    "import math"
   ]
  },
  {
   "cell_type": "code",
   "execution_count": 2,
   "metadata": {},
   "outputs": [
    {
     "data": {
      "text/plain": [
       "-7.926428526759299"
      ]
     },
     "execution_count": 2,
     "metadata": {},
     "output_type": "execute_result"
    }
   ],
   "source": [
    "Z = ((452 - 523) - 0)/math.sqrt((math.pow(212,2)/1200) + (math.pow(185,2)/800))\n",
    "Z"
   ]
  },
  {
   "cell_type": "markdown",
   "metadata": {},
   "source": [
    "p-value: p(z < -7.926) = 0"
   ]
  },
  {
   "cell_type": "markdown",
   "metadata": {},
   "source": [
    "So this concludes that the null hypothesis (H0) can be rejected. The number of people travelling from Bangalore to Chennai is not same as the people travelling from Bangalore to Hosur."
   ]
  },
  {
   "cell_type": "markdown",
   "metadata": {},
   "source": [
    "### Problem Statement 2:"
   ]
  },
  {
   "cell_type": "markdown",
   "metadata": {},
   "source": [
    "Is there evidence to conclude that the number of people preferring Duracell battery is\n",
    "different from the number of people preferring Energizer battery, given the following:\n",
    "\n",
    "Population 1: Duracell\n",
    "\n",
    "n1 = 100\n",
    "\n",
    "x1 = 308\n",
    "\n",
    "s1 = 84\n",
    "\n",
    "Population 2: Energizer\n",
    "\n",
    "n2 = 100\n",
    "\n",
    "x2 = 254\n",
    "\n",
    "s2 = 67"
   ]
  },
  {
   "cell_type": "markdown",
   "metadata": {},
   "source": [
    "### Solution:"
   ]
  },
  {
   "cell_type": "markdown",
   "metadata": {},
   "source": [
    "H0 : μ1 – μ2 <= 45\n",
    "\n",
    "H1 : μ1 – μ2 > 45"
   ]
  },
  {
   "cell_type": "markdown",
   "metadata": {},
   "source": [
    "![Z_Formula.png](Z_Formula.png)"
   ]
  },
  {
   "cell_type": "code",
   "execution_count": 3,
   "metadata": {},
   "outputs": [
    {
     "data": {
      "text/plain": [
       "0.837617111389407"
      ]
     },
     "execution_count": 3,
     "metadata": {},
     "output_type": "execute_result"
    }
   ],
   "source": [
    "Z = ((308 - 254) - 45)/math.sqrt((math.pow(84,2)/100) + (math.pow(67,2)/100))\n",
    "Z"
   ]
  },
  {
   "cell_type": "markdown",
   "metadata": {},
   "source": [
    "p-value: p(z > 0.8376) = 1 - p(z < 0.84) = 1 - 0.7995 = 0.2005"
   ]
  },
  {
   "cell_type": "markdown",
   "metadata": {},
   "source": [
    "p-value is less than z value. So we null hypothesis (H0) will be rejected at any level of significance."
   ]
  },
  {
   "cell_type": "markdown",
   "metadata": {},
   "source": [
    "### Problem Statement 3:"
   ]
  },
  {
   "cell_type": "markdown",
   "metadata": {},
   "source": [
    "![PS_3.png](PS_3.png)"
   ]
  },
  {
   "cell_type": "markdown",
   "metadata": {},
   "source": [
    "### Solution:"
   ]
  },
  {
   "cell_type": "markdown",
   "metadata": {},
   "source": [
    "H0 : μ1 – μ2 = 0\n",
    "\n",
    "H1 : μ1 – μ2 ≠ 0"
   ]
  },
  {
   "cell_type": "markdown",
   "metadata": {},
   "source": [
    "![t_Formula.png](t_Formula.png)"
   ]
  },
  {
   "cell_type": "code",
   "execution_count": 4,
   "metadata": {},
   "outputs": [
    {
     "data": {
      "text/plain": [
       "2.15355322387416"
      ]
     },
     "execution_count": 4,
     "metadata": {},
     "output_type": "execute_result"
    }
   ],
   "source": [
    "t = ((0.317 - 0.21) - 0)/math.sqrt(((((14-1)*math.pow(0.12,2))+((9-1)*math.pow(0.11,2)))/(14+9-2))*((1/14)+(1/9)))\n",
    "t"
   ]
  },
  {
   "cell_type": "markdown",
   "metadata": {},
   "source": [
    "Critical points of t for 2 tail tests.\n",
    "\n",
    "t(0.05) = 2.08, t(0.10) = 1.721"
   ]
  },
  {
   "cell_type": "markdown",
   "metadata": {},
   "source": [
    "So we can reject null hypothesis (H0) at the 10% level of significance."
   ]
  },
  {
   "cell_type": "markdown",
   "metadata": {},
   "source": [
    "## Problem Statement 4:"
   ]
  },
  {
   "cell_type": "markdown",
   "metadata": {},
   "source": [
    "The manufacturers of compact disk players want to test whether a small price reduction\n",
    "is enough to increase sales of their product. Is there evidence that the small price\n",
    "reduction is enough to increase sales of compact disk players?\n",
    "\n",
    "Population 1: Before reduction\n",
    "\n",
    "n1 = 15\n",
    "\n",
    "x1 = Rs. 6598\n",
    "\n",
    "s1 = Rs. 844\n",
    "\n",
    "Population 2: After reduction\n",
    "\n",
    "n2 = 12\n",
    "\n",
    "x2 = RS. 6870\n",
    "\n",
    "s2 = Rs. 669"
   ]
  },
  {
   "cell_type": "markdown",
   "metadata": {},
   "source": [
    "### Solution:"
   ]
  },
  {
   "cell_type": "markdown",
   "metadata": {},
   "source": [
    "H0 : μ1 – μ2 <= 0\n",
    "\n",
    "H1 : μ1 – μ2 > 0"
   ]
  },
  {
   "cell_type": "markdown",
   "metadata": {},
   "source": [
    "![t_Formula.png](t_Formula.png)"
   ]
  },
  {
   "cell_type": "code",
   "execution_count": 5,
   "metadata": {},
   "outputs": [
    {
     "data": {
      "text/plain": [
       "-0.9098300343990461"
      ]
     },
     "execution_count": 5,
     "metadata": {},
     "output_type": "execute_result"
    }
   ],
   "source": [
    "t = ((6598 - 6870) - 0)/math.sqrt(((((15-1)*math.pow(844,2))+((12-1)*math.pow(669,2)))/(15+12-2))*((1/15)+(1/12)))\n",
    "t"
   ]
  },
  {
   "cell_type": "markdown",
   "metadata": {},
   "source": [
    "alpha = 10% = 0.10\n",
    "\n",
    "t critical value at 0.10 is ±1.316\n",
    "\n",
    "So null hypothesis (H0) will not be rejected at the 10% level of significance."
   ]
  },
  {
   "cell_type": "markdown",
   "metadata": {},
   "source": [
    "## Problem Statement 5:"
   ]
  },
  {
   "cell_type": "markdown",
   "metadata": {},
   "source": [
    "Comparisons of two population proportions when the hypothesized difference is zero.\n",
    "\n",
    "Carry out a two-tailed test of the equality of banks’ share of the car loan market in 1980\n",
    "and 1995.\n",
    "\n",
    "Population 1: 1980\n",
    "\n",
    "n1 = 1000\n",
    "\n",
    "x1 = 53\n",
    "\n",
    "𝑝̂ 1 = 0.53\n",
    "\n",
    "Population 2: 1985\n",
    "\n",
    "n2 = 100\n",
    "\n",
    "x2 = 43\n",
    "\n",
    "𝑝̂ 2= 0.53"
   ]
  },
  {
   "cell_type": "markdown",
   "metadata": {},
   "source": [
    "### Solution:"
   ]
  },
  {
   "cell_type": "markdown",
   "metadata": {},
   "source": [
    "H0 : p1 – p2 = 0\n",
    "\n",
    "H1 : p1 – p2 ≠ 0"
   ]
  },
  {
   "cell_type": "markdown",
   "metadata": {},
   "source": [
    "![Z_Formula_Probability.png](Z_Formula_Probability.png)"
   ]
  },
  {
   "cell_type": "code",
   "execution_count": 6,
   "metadata": {},
   "outputs": [
    {
     "data": {
      "text/plain": [
       "0.08727272727272728"
      ]
     },
     "execution_count": 6,
     "metadata": {},
     "output_type": "execute_result"
    }
   ],
   "source": [
    "P = (53 + 43)/(1000 + 100)\n",
    "P"
   ]
  },
  {
   "cell_type": "code",
   "execution_count": 7,
   "metadata": {},
   "outputs": [
    {
     "data": {
      "text/plain": [
       "3.378266212559581"
      ]
     },
     "execution_count": 7,
     "metadata": {},
     "output_type": "execute_result"
    }
   ],
   "source": [
    "Z = ((0.53 - 0.43) - 0)/math.sqrt(P * (1-P) * ((1/1000) + (1/100)))\n",
    "Z"
   ]
  },
  {
   "cell_type": "markdown",
   "metadata": {},
   "source": [
    "Z critical value at 95% level of significance = 1.645\n",
    "\n",
    "Z critical value at 99% level of significance = 2.33\n",
    "\n",
    "So this concludes, the null hypothesis (H0) can be rejected even at 99% level of significance."
   ]
  },
  {
   "cell_type": "markdown",
   "metadata": {},
   "source": [
    "## Problem Statement 6:"
   ]
  },
  {
   "cell_type": "markdown",
   "metadata": {},
   "source": [
    "Carry out a one-tailed test to determine whether the population proportion of traveler’s\n",
    "check buyers who buy at least $2500 in checks when sweepstakes prizes are offered as\n",
    "at least 10% higher than the proportion of such buyers when no sweepstakes are on.\n",
    "\n",
    "Population 1: With sweepstakes\n",
    "\n",
    "n1 = 300\n",
    "\n",
    "x1 = 120\n",
    "\n",
    "𝑝̂ 1 = 0.40\n",
    "\n",
    "Population 2: No sweepstakes\n",
    "\n",
    "n2 = 700\n",
    "\n",
    "x2 = 140\n",
    "\n",
    "𝑝̂ 2= 0.20"
   ]
  },
  {
   "cell_type": "markdown",
   "metadata": {},
   "source": [
    "### Solution:"
   ]
  },
  {
   "cell_type": "markdown",
   "metadata": {},
   "source": [
    "H0 : p1 – p2 < 0.10\n",
    "\n",
    "H1 : p1 – p2 ≥ 0.10"
   ]
  },
  {
   "cell_type": "markdown",
   "metadata": {},
   "source": [
    "![Z_Formula_Probability_1.png](Z_Formula_Probability_1.png)"
   ]
  },
  {
   "cell_type": "code",
   "execution_count": 8,
   "metadata": {},
   "outputs": [
    {
     "data": {
      "text/plain": [
       "3.1180478223116177"
      ]
     },
     "execution_count": 8,
     "metadata": {},
     "output_type": "execute_result"
    }
   ],
   "source": [
    "Z = ((0.40 - 0.20) - 0.10)/math.sqrt(((0.4 * (1-0.4))/300) + ((0.2 * (1-0.2))/700))\n",
    "Z"
   ]
  },
  {
   "cell_type": "markdown",
   "metadata": {},
   "source": [
    "alpha = 0.001\n",
    "\n",
    "Z critical value at 0.001 level of significance is 3.09. So null hypothesis (H0) can be rejected at any level of significance."
   ]
  },
  {
   "cell_type": "markdown",
   "metadata": {},
   "source": [
    "## Problem Statement 7:"
   ]
  },
  {
   "cell_type": "markdown",
   "metadata": {},
   "source": [
    "A die is thrown 132 times with the following results:\n",
    "\n",
    "Number turned up: 1, 2, 3, 4, 5, 6\n",
    "\n",
    "Frequency: 16, 20, 25, 14, 29, 28\n",
    "\n",
    "Is the die unbiased? Consider the degrees of freedom as n − 1."
   ]
  },
  {
   "cell_type": "markdown",
   "metadata": {},
   "source": [
    "### Solution:"
   ]
  },
  {
   "cell_type": "markdown",
   "metadata": {},
   "source": [
    "H0: Die is unbaised.\n",
    "\n",
    "H1: Die is baised."
   ]
  },
  {
   "cell_type": "markdown",
   "metadata": {},
   "source": [
    "![PS_7_Solution.png](PS_7_Solution.png)"
   ]
  },
  {
   "cell_type": "markdown",
   "metadata": {},
   "source": [
    "df = n - 1 = 6 - 1 = 5\n",
    "\n",
    "alpha = 5% = 0.05\n",
    "\n",
    "The critical value for χ2 at 0.05 is 11.07\n",
    "\n",
    "As χ2 < χ2 (Critical), null hypothesis (H0) should not be rejected. We failed to reject H0."
   ]
  },
  {
   "cell_type": "markdown",
   "metadata": {},
   "source": [
    "## Problem Statement 8:"
   ]
  },
  {
   "cell_type": "markdown",
   "metadata": {},
   "source": [
    "In a certain town, there are about one million eligible voters. A simple random sample of\n",
    "10,000 eligible voters was chosen to study the relationship between gender and\n",
    "participation in the last election. The results are summarized in the following 2X2 (read\n",
    "two by two) contingency table:"
   ]
  },
  {
   "cell_type": "markdown",
   "metadata": {},
   "source": [
    "![PS_8.png](PS_8.png)"
   ]
  },
  {
   "cell_type": "markdown",
   "metadata": {},
   "source": [
    "We would want to check whether being a man or a woman (columns) is independent of\n",
    "having\n",
    "voted in the last election (rows). In other words, is “gender and voting independent”?"
   ]
  },
  {
   "cell_type": "markdown",
   "metadata": {},
   "source": [
    "### Solution:"
   ]
  },
  {
   "cell_type": "markdown",
   "metadata": {},
   "source": [
    "H0: Sex is independent of voting.\n",
    "\n",
    "H1: Sex and voting are dependent."
   ]
  },
  {
   "cell_type": "markdown",
   "metadata": {},
   "source": [
    "![PS_8_Solution_1.png](PS_8_Solution_1.png)"
   ]
  },
  {
   "cell_type": "markdown",
   "metadata": {},
   "source": [
    "![PS_8_Solution_2.png](PS_8_Solution_2.png)"
   ]
  },
  {
   "cell_type": "markdown",
   "metadata": {},
   "source": [
    "df = (rows - 1) * (cols - 1) = (2-1) * (2-1) = 1\n",
    "\n",
    "The critical value of χ2 at 5% level of significance when df = 1 is 3.84."
   ]
  },
  {
   "cell_type": "markdown",
   "metadata": {},
   "source": [
    "χ2 > χ2 (critical) => 6.584 > 3.84\n",
    "\n",
    "So we reject the null hypothesis (H0)."
   ]
  },
  {
   "cell_type": "markdown",
   "metadata": {},
   "source": [
    "## Problem Statement 9:"
   ]
  },
  {
   "cell_type": "markdown",
   "metadata": {},
   "source": [
    "A sample of 100 voters are asked which of four candidates they would vote for in an\n",
    "election. The number supporting each candidate is given below:\n",
    "\n",
    "Higgins Reardon White Charlton\n",
    "\n",
    "41      19      24      16\n",
    "\n",
    "Do the data suggest that all candidates are equally popular? [Chi-Square = 14.96, with\n",
    "3 df, 𝑝̂ < 0.05]."
   ]
  },
  {
   "cell_type": "markdown",
   "metadata": {},
   "source": [
    "### Solution:"
   ]
  },
  {
   "cell_type": "markdown",
   "metadata": {},
   "source": [
    "H0: All candidates are equally popular.\n",
    "\n",
    "H1: All candidates are not equally popular."
   ]
  },
  {
   "cell_type": "markdown",
   "metadata": {},
   "source": [
    "![PS_9_Solution_1.png](PS_9_Solution_1.png)"
   ]
  },
  {
   "cell_type": "markdown",
   "metadata": {},
   "source": [
    "df = n - 1 = 4 - 1 = 3\n",
    "\n",
    "The critical value of Chi-Square for a 0.05 significance level and 3 d.f. is 7.82.\n",
    "\n",
    "χ2 > χ2 (critical) => 14.96 > 7.82\n",
    "\n",
    "So we reject null hypothesis (H0)"
   ]
  },
  {
   "cell_type": "markdown",
   "metadata": {},
   "source": [
    "## Problem Statement 10:"
   ]
  },
  {
   "cell_type": "markdown",
   "metadata": {},
   "source": [
    "Children of three ages are asked to indicate their preference for three photographs of\n",
    "adults. Do the data suggest that there is a significant relationship between age and\n",
    "photograph preference? What is wrong with this study? [Chi-Square = 29.6, with 4 df: 𝑝̂ <\n",
    "0.05]."
   ]
  },
  {
   "cell_type": "markdown",
   "metadata": {},
   "source": [
    "![PS_10.png](PS_10.png)"
   ]
  },
  {
   "cell_type": "markdown",
   "metadata": {},
   "source": [
    "### Solution:"
   ]
  },
  {
   "cell_type": "markdown",
   "metadata": {},
   "source": [
    "H0: There is no significance relationship between age and photography.\n",
    "\n",
    "H1: There is a significance relationship between age and photography."
   ]
  },
  {
   "cell_type": "markdown",
   "metadata": {},
   "source": [
    "![PS_10_Solution.png](PS_10_Solution.png)"
   ]
  },
  {
   "cell_type": "markdown",
   "metadata": {},
   "source": [
    "df = (rows - 1) * (cols - 1) = (3-1) * (3-1) = 2 * 2 = 4\n",
    "\n",
    "The critical value of χ2 at 1% level of significance when df = 4 is 13.28.\n",
    "\n",
    "χ2 > χ2 (critical) => 29.6032 > 13.28\n",
    "\n",
    "So we reject the null hypothesis (H0)."
   ]
  },
  {
   "cell_type": "markdown",
   "metadata": {},
   "source": [
    "## Problem Statement 11:"
   ]
  },
  {
   "cell_type": "markdown",
   "metadata": {},
   "source": [
    "A study of conformity using the Asch paradigm involved two conditions: one where one\n",
    "confederate supported the true judgement, and another where no confederate gave the\n",
    "correct response."
   ]
  },
  {
   "cell_type": "markdown",
   "metadata": {},
   "source": [
    "![PS_11.png](PS_11.png)"
   ]
  },
  {
   "cell_type": "markdown",
   "metadata": {},
   "source": [
    "### Solution:"
   ]
  },
  {
   "cell_type": "markdown",
   "metadata": {},
   "source": [
    "H0: There are no significant difference between the \"support\" and \"no support\" conditions\n",
    "\n",
    "H0: There are significant difference between the \"support\" and \"no support\" conditions"
   ]
  },
  {
   "cell_type": "markdown",
   "metadata": {},
   "source": [
    "![PS_11_Solution.png](PS_11_Solution.png)"
   ]
  },
  {
   "cell_type": "markdown",
   "metadata": {},
   "source": [
    "df = (rows - 1) * (cols - 1) = (2-1) * (2-1) = 1 * 1 = 1\n",
    "\n",
    "The critical value of χ2 at 1% level of significance when df = 1 is 6.63.\n",
    "\n",
    "χ2 > χ2 (critical) => 18.10345 > 6.63\n",
    "\n",
    "So we reject the null hypothesis (H0)."
   ]
  },
  {
   "cell_type": "markdown",
   "metadata": {},
   "source": [
    "## Problem Statement 12:"
   ]
  },
  {
   "cell_type": "markdown",
   "metadata": {},
   "source": [
    "![PS_12.png](PS_12.png)"
   ]
  },
  {
   "cell_type": "markdown",
   "metadata": {},
   "source": [
    "### Solution:"
   ]
  },
  {
   "cell_type": "markdown",
   "metadata": {},
   "source": [
    "H0: There is no relationship between height and leadership qualities.\n",
    "\n",
    "H1: There is a relationship between height and leadership qualities."
   ]
  },
  {
   "cell_type": "markdown",
   "metadata": {},
   "source": [
    "![PS_12_Solution.png](PS_12_Solution.png)"
   ]
  },
  {
   "cell_type": "markdown",
   "metadata": {},
   "source": [
    "df = (rows - 1) * (cols - 1) = (3-1) * (2-1) = 2 * 1 = 2\n",
    "\n",
    "The critical value of χ2 at 1% level of significance when df = 2 is 9.21\n",
    "\n",
    "χ2 > χ2 (critical) => 10.9881 > 9.21\n",
    "\n",
    "So we reject the null hypothesis (H0)."
   ]
  },
  {
   "cell_type": "markdown",
   "metadata": {},
   "source": [
    "## Problem Statement 13:"
   ]
  },
  {
   "cell_type": "markdown",
   "metadata": {},
   "source": [
    "Each respondent in the Current Population Survey of March 1993 was classified as\n",
    "employed, unemployed, or outside the labor force. The results for men in California age\n",
    "35-44 can be cross-tabulated by marital status, as follows:"
   ]
  },
  {
   "cell_type": "markdown",
   "metadata": {},
   "source": [
    "![PS_13.png](PS_13.png)"
   ]
  },
  {
   "cell_type": "markdown",
   "metadata": {},
   "source": [
    "Men of different marital status seem to have different distributions of labor force status.\n",
    "Or is this just chance variation? (you may assume the table results from a simple random\n",
    "sample.)"
   ]
  },
  {
   "cell_type": "markdown",
   "metadata": {},
   "source": [
    "### Solution:"
   ]
  },
  {
   "cell_type": "markdown",
   "metadata": {},
   "source": [
    "H0: There is no relationship between marital status and labour status.\n",
    "\n",
    "H1: There is a relationship between marital status and labour status."
   ]
  },
  {
   "cell_type": "markdown",
   "metadata": {},
   "source": [
    "![PS_13_Solution.png](PS_13_Solution.png)"
   ]
  },
  {
   "cell_type": "markdown",
   "metadata": {},
   "source": [
    "df = (rows - 1) * (cols - 1) = (3-1) * (3-1) = 2 * 2 = 4\n",
    "\n",
    "The critical value of χ2 at 1% level of significance when df = 4 is 13.28\n",
    "\n",
    "χ2 > χ2 (critical) => 30.9587 > 13.28\n",
    "\n",
    "So we reject the null hypothesis (H0)."
   ]
  },
  {
   "cell_type": "code",
   "execution_count": null,
   "metadata": {},
   "outputs": [],
   "source": []
  }
 ],
 "metadata": {
  "kernelspec": {
   "display_name": "Python 3",
   "language": "python",
   "name": "python3"
  },
  "language_info": {
   "codemirror_mode": {
    "name": "ipython",
    "version": 3
   },
   "file_extension": ".py",
   "mimetype": "text/x-python",
   "name": "python",
   "nbconvert_exporter": "python",
   "pygments_lexer": "ipython3",
   "version": "3.7.0"
  }
 },
 "nbformat": 4,
 "nbformat_minor": 2
}
